{
 "cells": [
  {
   "cell_type": "markdown",
   "metadata": {},
   "source": [
    "# Pyber Challenge"
   ]
  },
  {
   "cell_type": "markdown",
   "metadata": {},
   "source": [
    "### 4.3 Loading and Reading CSV files"
   ]
  },
  {
   "cell_type": "code",
   "execution_count": 3,
   "metadata": {},
   "outputs": [],
   "source": [
    "# Add Matplotlib inline magic command\n",
    "%matplotlib inline\n",
    "# Dependencies and Setup\n",
    "import matplotlib.pyplot as plt\n",
    "import pandas as pd\n",
    "\n",
    "# File to Load (Remember to change these)\n",
    "city_data_to_load = \"city_data.csv\"\n",
    "ride_data_to_load = \"ride_data.csv\"\n",
    "\n",
    "# Read the City and Ride Data\n",
    "city_data_df = pd.read_csv(city_data_to_load)\n",
    "ride_data_df = pd.read_csv(ride_data_to_load)"
   ]
  },
  {
   "cell_type": "markdown",
   "metadata": {},
   "source": [
    "### Merge the DataFrames"
   ]
  },
  {
   "cell_type": "code",
   "execution_count": 8,
   "metadata": {
    "scrolled": true
   },
   "outputs": [
    {
     "data": {
      "text/html": [
       "<div>\n",
       "<style scoped>\n",
       "    .dataframe tbody tr th:only-of-type {\n",
       "        vertical-align: middle;\n",
       "    }\n",
       "\n",
       "    .dataframe tbody tr th {\n",
       "        vertical-align: top;\n",
       "    }\n",
       "\n",
       "    .dataframe thead th {\n",
       "        text-align: right;\n",
       "    }\n",
       "</style>\n",
       "<table border=\"1\" class=\"dataframe\">\n",
       "  <thead>\n",
       "    <tr style=\"text-align: right;\">\n",
       "      <th></th>\n",
       "      <th>city</th>\n",
       "      <th>date</th>\n",
       "      <th>fare</th>\n",
       "      <th>ride_id</th>\n",
       "      <th>driver_count</th>\n",
       "      <th>type</th>\n",
       "    </tr>\n",
       "  </thead>\n",
       "  <tbody>\n",
       "    <tr>\n",
       "      <th>2370</th>\n",
       "      <td>Michaelberg</td>\n",
       "      <td>2019-04-29 17:04:39</td>\n",
       "      <td>13.38</td>\n",
       "      <td>8550365057598</td>\n",
       "      <td>6</td>\n",
       "      <td>Rural</td>\n",
       "    </tr>\n",
       "    <tr>\n",
       "      <th>2371</th>\n",
       "      <td>Lake Latoyabury</td>\n",
       "      <td>2019-01-30 00:05:47</td>\n",
       "      <td>20.76</td>\n",
       "      <td>9018727594352</td>\n",
       "      <td>2</td>\n",
       "      <td>Rural</td>\n",
       "    </tr>\n",
       "    <tr>\n",
       "      <th>2372</th>\n",
       "      <td>North Jaime</td>\n",
       "      <td>2019-02-10 21:03:50</td>\n",
       "      <td>11.11</td>\n",
       "      <td>2781339863778</td>\n",
       "      <td>1</td>\n",
       "      <td>Rural</td>\n",
       "    </tr>\n",
       "    <tr>\n",
       "      <th>2373</th>\n",
       "      <td>West Heather</td>\n",
       "      <td>2019-05-07 19:22:15</td>\n",
       "      <td>44.94</td>\n",
       "      <td>4256853490277</td>\n",
       "      <td>4</td>\n",
       "      <td>Rural</td>\n",
       "    </tr>\n",
       "    <tr>\n",
       "      <th>2374</th>\n",
       "      <td>Newtonview</td>\n",
       "      <td>2019-04-25 10:20:13</td>\n",
       "      <td>55.84</td>\n",
       "      <td>9990581345298</td>\n",
       "      <td>1</td>\n",
       "      <td>Rural</td>\n",
       "    </tr>\n",
       "  </tbody>\n",
       "</table>\n",
       "</div>"
      ],
      "text/plain": [
       "                 city                 date   fare        ride_id  \\\n",
       "2370      Michaelberg  2019-04-29 17:04:39  13.38  8550365057598   \n",
       "2371  Lake Latoyabury  2019-01-30 00:05:47  20.76  9018727594352   \n",
       "2372      North Jaime  2019-02-10 21:03:50  11.11  2781339863778   \n",
       "2373     West Heather  2019-05-07 19:22:15  44.94  4256853490277   \n",
       "2374       Newtonview  2019-04-25 10:20:13  55.84  9990581345298   \n",
       "\n",
       "      driver_count   type  \n",
       "2370             6  Rural  \n",
       "2371             2  Rural  \n",
       "2372             1  Rural  \n",
       "2373             4  Rural  \n",
       "2374             1  Rural  "
      ]
     },
     "execution_count": 8,
     "metadata": {},
     "output_type": "execute_result"
    }
   ],
   "source": [
    "# Combine the data into a single dataset\n",
    "pyber_data_df = pd.merge(ride_data_df, city_data_df, how=\"left\", on=[\"city\", \"city\"])\n",
    "\n",
    "# Display the data table for preview\n",
    "pyber_data_df.tail()"
   ]
  },
  {
   "cell_type": "markdown",
   "metadata": {},
   "source": [
    "## Deliverable 1: Get a Summary DataFrame "
   ]
  },
  {
   "cell_type": "code",
   "execution_count": 21,
   "metadata": {},
   "outputs": [
    {
     "name": "stdout",
     "output_type": "stream",
     "text": [
      "city\n",
      "Amandaburgh         18\n",
      "Barajasview         22\n",
      "Barronchester       16\n",
      "Bethanyland         18\n",
      "Bradshawfurt        10\n",
      "                    ..\n",
      "West Robert         31\n",
      "West Samuelburgh    25\n",
      "Williamsonville     14\n",
      "Williamsstad        23\n",
      "Williamsview        20\n",
      "Name: ride_id, Length: 120, dtype: int64\n",
      "city\n",
      "Amandaburgh         18\n",
      "Barajasview         22\n",
      "Barronchester       16\n",
      "Bethanyland         18\n",
      "Bradshawfurt        10\n",
      "                    ..\n",
      "West Robert         31\n",
      "West Samuelburgh    25\n",
      "Williamsonville     14\n",
      "Williamsstad        23\n",
      "Williamsview        20\n",
      "Name: ride_id, Length: 120, dtype: int64\n",
      "city\n",
      "Amandaburgh         18\n",
      "Barajasview         22\n",
      "Barronchester       16\n",
      "Bethanyland         18\n",
      "Bradshawfurt        10\n",
      "                    ..\n",
      "West Robert         31\n",
      "West Samuelburgh    25\n",
      "Williamsonville     14\n",
      "Williamsstad        23\n",
      "Williamsview        20\n",
      "Name: ride_id, Length: 120, dtype: int64\n"
     ]
    }
   ],
   "source": [
    "#  1. Get the total rides for each city type\n",
    "# pyber_data_df\n",
    "\n",
    "urban_ride_count = pyber_data_df.groupby([\"city\"]).count()[\"ride_id\"]\n",
    "\n",
    "suburban_ride_count = pyber_data_df.groupby([\"city\"]).count()[\"ride_id\"]\n",
    "\n",
    "rural_ride_count = pyber_data_df.groupby([\"city\"]).count()[\"ride_id\"]\n",
    "\n",
    "print(urban_ride_count)\n",
    "print(suburban_ride_count)\n",
    "print(rural_ride_count)"
   ]
  },
  {
   "cell_type": "code",
   "execution_count": 20,
   "metadata": {},
   "outputs": [
    {
     "name": "stdout",
     "output_type": "stream",
     "text": [
      "city\n",
      "Amandaburgh          216\n",
      "Barajasview          572\n",
      "Barronchester        176\n",
      "Bethanyland          396\n",
      "Bradshawfurt          70\n",
      "                    ... \n",
      "West Robert         1209\n",
      "West Samuelburgh    1825\n",
      "Williamsonville       28\n",
      "Williamsstad        1357\n",
      "Williamsview         920\n",
      "Name: driver_count, Length: 120, dtype: int64\n",
      "city\n",
      "Amandaburgh          216\n",
      "Barajasview          572\n",
      "Barronchester        176\n",
      "Bethanyland          396\n",
      "Bradshawfurt          70\n",
      "                    ... \n",
      "West Robert         1209\n",
      "West Samuelburgh    1825\n",
      "Williamsonville       28\n",
      "Williamsstad        1357\n",
      "Williamsview         920\n",
      "Name: driver_count, Length: 120, dtype: int64\n",
      "city\n",
      "Amandaburgh          216\n",
      "Barajasview          572\n",
      "Barronchester        176\n",
      "Bethanyland          396\n",
      "Bradshawfurt          70\n",
      "                    ... \n",
      "West Robert         1209\n",
      "West Samuelburgh    1825\n",
      "Williamsonville       28\n",
      "Williamsstad        1357\n",
      "Williamsview         920\n",
      "Name: driver_count, Length: 120, dtype: int64\n"
     ]
    }
   ],
   "source": [
    "# 2. Get the total drivers for each city type. ***I WANT TO GROUP BY CITY STILL, NOT JUST SIMPLE DRIVER COUNT!\n",
    "# pyber_data_df\n",
    "\n",
    "urban_drivers = pyber_data_df.groupby([\"city\"]).sum()[\"driver_count\"]\n",
    "\n",
    "suburban_drivers = pyber_data_df.groupby([\"city\"]).sum()[\"driver_count\"]\n",
    "\n",
    "rural_drivers = pyber_data_df.groupby([\"city\"]).sum()[\"driver_count\"]\n",
    "\n",
    "print(urban_drivers)\n",
    "print(suburban_drivers)\n",
    "print(rural_drivers)"
   ]
  },
  {
   "cell_type": "code",
   "execution_count": 24,
   "metadata": {},
   "outputs": [
    {
     "name": "stdout",
     "output_type": "stream",
     "text": [
      "city\n",
      "Amandaburgh         443.55\n",
      "Barajasview         557.31\n",
      "Barronchester       582.76\n",
      "Bethanyland         593.21\n",
      "Bradshawfurt        400.64\n",
      "                     ...  \n",
      "West Robert         778.84\n",
      "West Samuelburgh    544.19\n",
      "Williamsonville     446.25\n",
      "Williamsstad        560.33\n",
      "Williamsview        531.98\n",
      "Name: fare, Length: 120, dtype: float64\n",
      "city\n",
      "Amandaburgh         443.55\n",
      "Barajasview         557.31\n",
      "Barronchester       582.76\n",
      "Bethanyland         593.21\n",
      "Bradshawfurt        400.64\n",
      "                     ...  \n",
      "West Robert         778.84\n",
      "West Samuelburgh    544.19\n",
      "Williamsonville     446.25\n",
      "Williamsstad        560.33\n",
      "Williamsview        531.98\n",
      "Name: fare, Length: 120, dtype: float64\n",
      "city\n",
      "Amandaburgh         443.55\n",
      "Barajasview         557.31\n",
      "Barronchester       582.76\n",
      "Bethanyland         593.21\n",
      "Bradshawfurt        400.64\n",
      "                     ...  \n",
      "West Robert         778.84\n",
      "West Samuelburgh    544.19\n",
      "Williamsonville     446.25\n",
      "Williamsstad        560.33\n",
      "Williamsview        531.98\n",
      "Name: fare, Length: 120, dtype: float64\n"
     ]
    }
   ],
   "source": [
    "#  3. Get the total amount of fares for each city type\n",
    "urban_fare = pyber_data_df.groupby([\"city\"]).sum()[\"fare\"]\n",
    "\n",
    "suburban_fare = pyber_data_df.groupby([\"city\"]).sum()[\"fare\"]\n",
    "\n",
    "rural_fare = pyber_data_df.groupby([\"city\"]).sum()[\"fare\"]\n",
    "\n",
    "print(urban_fare)\n",
    "print(suburban_fare)\n",
    "print(rural_fare)"
   ]
  },
  {
   "cell_type": "code",
   "execution_count": null,
   "metadata": {},
   "outputs": [],
   "source": [
    "#  4. Get the average fare per ride for each city type. \n",
    "# So, divide the sum of the fare per city by the sum of the rides per city. \n",
    "\n",
    "\n",
    "\n"
   ]
  },
  {
   "cell_type": "code",
   "execution_count": null,
   "metadata": {},
   "outputs": [],
   "source": [
    "# 5. Get the average fare per driver for each city type. \n",
    "# So, divide the sum of the fare per city by the sum of the rides per city. \n",
    "\n",
    "\n",
    "\n"
   ]
  },
  {
   "cell_type": "code",
   "execution_count": null,
   "metadata": {},
   "outputs": [],
   "source": [
    "#  6. Create a PyBer summary DataFrame. \n"
   ]
  },
  {
   "cell_type": "code",
   "execution_count": null,
   "metadata": {},
   "outputs": [],
   "source": [
    "#  7. Cleaning up the DataFrame. Delete the index name\n",
    "pyber_summary_df.index.name = None"
   ]
  },
  {
   "cell_type": "code",
   "execution_count": null,
   "metadata": {},
   "outputs": [],
   "source": [
    "#  8. Format the columns.\n"
   ]
  },
  {
   "cell_type": "markdown",
   "metadata": {},
   "source": [
    "## Deliverable 2.  Create a multiple line plot that shows the total weekly of the fares for each type of city."
   ]
  },
  {
   "cell_type": "code",
   "execution_count": null,
   "metadata": {},
   "outputs": [],
   "source": [
    "# 1. Read the merged DataFrame\n"
   ]
  },
  {
   "cell_type": "code",
   "execution_count": null,
   "metadata": {},
   "outputs": [],
   "source": [
    "# 2. Using groupby() to create a new DataFrame showing the sum of the fares \n",
    "#  for each date where the indices are the city type and date.\n"
   ]
  },
  {
   "cell_type": "code",
   "execution_count": null,
   "metadata": {},
   "outputs": [],
   "source": [
    "# 3. Reset the index on the DataFrame you created in #1. This is needed to use the 'pivot()' function.\n",
    "# df = df.reset_index()\n"
   ]
  },
  {
   "cell_type": "code",
   "execution_count": null,
   "metadata": {},
   "outputs": [],
   "source": [
    "# 4. Create a pivot table with the 'date' as the index, the columns ='type', and values='fare' \n",
    "# to get the total fares for each type of city by the date. \n"
   ]
  },
  {
   "cell_type": "code",
   "execution_count": null,
   "metadata": {},
   "outputs": [],
   "source": [
    "# 5. Create a new DataFrame from the pivot table DataFrame using loc on the given dates, '2019-01-01':'2019-04-29'.\n",
    "\n"
   ]
  },
  {
   "cell_type": "code",
   "execution_count": null,
   "metadata": {},
   "outputs": [],
   "source": [
    "# 6. Set the \"date\" index to datetime datatype. This is necessary to use the resample() method in Step 8.\n",
    "# df.index = pd.to_datetime(df.index)"
   ]
  },
  {
   "cell_type": "code",
   "execution_count": null,
   "metadata": {},
   "outputs": [],
   "source": [
    "# 7. Check that the datatype for the index is datetime using df.info()\n"
   ]
  },
  {
   "cell_type": "code",
   "execution_count": null,
   "metadata": {},
   "outputs": [],
   "source": [
    "# 8. Create a new DataFrame using the \"resample()\" function by week 'W' and get the sum of the fares for each week.\n"
   ]
  },
  {
   "cell_type": "code",
   "execution_count": null,
   "metadata": {},
   "outputs": [],
   "source": [
    "# 8. Using the object-oriented interface method, plot the resample DataFrame using the df.plot() function. \n",
    "\n",
    "# Import the style from Matplotlib.\n",
    "from matplotlib import style\n",
    "# Use the graph style fivethirtyeight.\n",
    "style.use('fivethirtyeight')\n",
    "\n"
   ]
  },
  {
   "cell_type": "code",
   "execution_count": null,
   "metadata": {},
   "outputs": [],
   "source": []
  }
 ],
 "metadata": {
  "anaconda-cloud": {},
  "kernelspec": {
   "display_name": "Python 3",
   "language": "python",
   "name": "python3"
  },
  "language_info": {
   "codemirror_mode": {
    "name": "ipython",
    "version": 3
   },
   "file_extension": ".py",
   "mimetype": "text/x-python",
   "name": "python",
   "nbconvert_exporter": "python",
   "pygments_lexer": "ipython3",
   "version": "3.8.8"
  }
 },
 "nbformat": 4,
 "nbformat_minor": 2
}
